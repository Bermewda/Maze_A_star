{
 "cells": [
  {
   "cell_type": "markdown",
   "metadata": {},
   "source": [
    "# Solving Maze with A-star algorithm"
   ]
  },
  {
   "cell_type": "code",
   "execution_count": 255,
   "metadata": {},
   "outputs": [],
   "source": [
    "import random\n",
    "import copy\n",
    "import numpy as np\n",
    "import matplotlib.pyplot as plt"
   ]
  },
  {
   "cell_type": "markdown",
   "metadata": {},
   "source": [
    "# Maze Class"
   ]
  },
  {
   "cell_type": "code",
   "execution_count": 307,
   "metadata": {},
   "outputs": [],
   "source": [
    "class Maze(object):\n",
    "    def __init__(self, size=10, blocks_rate=0.1):\n",
    "        self.size = size if size > 3 else 10\n",
    "        self.blocks = int((size ** 2) * blocks_rate) \n",
    "        self.s_list = []\n",
    "        self.maze_list = []\n",
    "        self.e_list = []\n",
    "\n",
    "    def create_mid_lines(self, k):\n",
    "        if k == 0: self.maze_list.append(self.s_list)\n",
    "        elif k == self.size - 1: self.maze_list.append(self.e_list)\n",
    "        else:\n",
    "            tmp_list = []\n",
    "            for l in range(0,self.size):\n",
    "                if l == 0: tmp_list.extend([9])\n",
    "                elif l == self.size-1: tmp_list.extend([9])\n",
    "                else:\n",
    "                    a = random.randint(-2, 0)\n",
    "                    tmp_list.extend([a])\n",
    "            self.maze_list.append(tmp_list)\n",
    "\n",
    "    def insert_blocks(self, k, s_r, e_r):\n",
    "        b_y = random.randint(1, self.size-2)\n",
    "        b_x = random.randint(1, self.size-2)\n",
    "        if [b_y, b_x] == [1, s_r] or [b_y, b_x] == [self.size - 2, e_r]: k = k-1\n",
    "        else: self.maze_list[b_y][b_x] = 9\n",
    "            \n",
    "    def generate_maze(self): \n",
    "        s_r = random.randint(1, (self.size / 2) - 1)\n",
    "        for i in range(0, self.size):\n",
    "            if i == s_r: self.s_list.extend([6])\n",
    "            else: self.s_list.extend([9])\n",
    "        start_point = [0, s_r]\n",
    "\n",
    "        e_r = random.randint((self.size / 2) + 1, self.size - 2)\n",
    "#         print(e_r)\n",
    "#         print(s_r)\n",
    "        for j in range(0, self.size):\n",
    "            if j == e_r: self.e_list.extend([7])\n",
    "            else: self.e_list.extend([9])\n",
    "        goal_point = [self.size - 1, e_r]\n",
    "\n",
    "        for k in range(0, self.size):\n",
    "            self.create_mid_lines(k)\n",
    "        \n",
    "        for k in range(self.blocks):\n",
    "            self.insert_blocks(k, s_r, e_r)\n",
    "\n",
    "        return self.maze_list, start_point, goal_point"
   ]
  },
  {
   "cell_type": "markdown",
   "metadata": {},
   "source": [
    "# Maze functions"
   ]
  },
  {
   "cell_type": "code",
   "execution_count": 308,
   "metadata": {},
   "outputs": [],
   "source": [
    "class Field(object):\n",
    "    def __init__(self, maze, start_point, goal_point):\n",
    "        self.maze = maze\n",
    "        self.start_point = start_point\n",
    "        self.goal_point = goal_point\n",
    "        self.movable_vec = [[1,0],[-1,0],[0,1],[0,-1]]\n",
    "        self.field_data = copy.deepcopy(self.maze)\n",
    "\n",
    "    def display(self, point=None):\n",
    "        self.field_data = copy.deepcopy(self.maze)\n",
    "        if not point is None:\n",
    "                y, x = point\n",
    "                self.field_data[y][x] = 5\n",
    "        else:\n",
    "                point = \"\"\n",
    "#         for line in self.field_data:\n",
    "#                 print (\"\\t\" + \"%3s \" * len(line) % tuple(line))\n",
    "        plt.figure()\n",
    "        plt.matshow(self.field_data, cmap=plt.cm.RdPu)\n",
    "        self.maze[y][x] = 3\n",
    "        \n",
    "\n",
    "    def get_actions(self, state):\n",
    "        movables = []\n",
    "        if state == self.start_point:\n",
    "            y = state[0] + 1\n",
    "            x = state[1]\n",
    "            a = [[y, x]]\n",
    "            return a\n",
    "        else:\n",
    "            for v in self.movable_vec:\n",
    "                y = state[0] + v[0]\n",
    "                x = state[1] + v[1]\n",
    "                if not(0 < x < len(self.maze) and\n",
    "                       0 <= y <= len(self.maze) - 1 and\n",
    "                       maze[y][x] != 9 and\n",
    "                       maze[y][x] != 6):\n",
    "                    continue\n",
    "                movables.append([y,x])\n",
    "            if len(movables) != 0:\n",
    "                return movables\n",
    "            else:\n",
    "                return None\n",
    "\n",
    "    def get_val(self, state):\n",
    "        y, x = state\n",
    "        if state == self.start_point: return 0, False\n",
    "        else:\n",
    "            v = float(self.maze[y][x])\n",
    "            if state == self.goal_point: \n",
    "                return v, True\n",
    "            else: \n",
    "                return v, False\n",
    "            \n",
    "    def print_map(self):\n",
    "        min_val, max_val = 0, 12\n",
    "        plt.figure()\n",
    "        plt.matshow(self.field_data, cmap=plt.cm.RdPu)\n",
    "        \n",
    "    def print_map(self, point=None):\n",
    "        self.field_data = copy.deepcopy(self.maze)\n",
    "        if not point is None:\n",
    "                y, x = point\n",
    "                self.field_data[y][x] = \"5\"\n",
    "#         else:\n",
    "#                 point = \"\"\n",
    "        plt.figure()\n",
    "        plt.matshow(self.field_data, cmap=plt.cm.RdPu)\n",
    "#         for line in self.field_data:\n",
    "#                 print (\"\\t\" + \"%3s \" * len(line) % tuple(line))"
   ]
  },
  {
   "cell_type": "markdown",
   "metadata": {},
   "source": [
    "# Generate a maze"
   ]
  },
  {
   "cell_type": "code",
   "execution_count": 314,
   "metadata": {},
   "outputs": [
    {
     "data": {
      "text/plain": [
       "<Figure size 432x288 with 0 Axes>"
      ]
     },
     "metadata": {},
     "output_type": "display_data"
    },
    {
     "data": {
      "image/png": "[encoded data removed]",
      "text/plain": [
       "<Figure size 288x288 with 1 Axes>"
      ]
     },
     "metadata": {},
     "output_type": "display_data"
    }
   ],
   "source": [
    "size = 12\n",
    "barriar_rate = 0.2\n",
    "\n",
    "maze_1 = Maze(size, barriar_rate)\n",
    "maze, start_point, goal_point = maze_1.generate_maze()\n",
    "maze_field = Field(maze, start_point, goal_point)\n",
    "\n",
    "maze_field.print_map()"
   ]
  },
  {
   "cell_type": "markdown",
   "metadata": {
    "collapsed": true
   },
   "source": [
    "# Print Map"
   ]
  },
  {
   "cell_type": "code",
   "execution_count": null,
   "metadata": {},
   "outputs": [],
   "source": []
  },
  {
   "cell_type": "markdown",
   "metadata": {},
   "source": [
    "# Solving the maze with A-star algorithm\n",
    "### https://en.wikipedia.org/wiki/A*_search_algorithm"
   ]
  },
  {
   "cell_type": "code",
   "execution_count": 315,
   "metadata": {},
   "outputs": [],
   "source": [
    "class Node(object):    \n",
    "    def __init__(self, state, start_point, goal_point):\n",
    "        self.state = state\n",
    "        self.start_point = start_point\n",
    "        self.goal_point = goal_point\n",
    "        self.hs = (self.state[0] - self.goal_point[0]) ** 2 + (self.state[1] - self.goal_point[1]) ** 2\n",
    "        self.fs = 0\n",
    "        self.parent_node = None\n",
    "    \n",
    "    def confirm_goal(self):\n",
    "        if self.goal_point == self.state: return True\n",
    "        else: return False"
   ]
  },
  {
   "cell_type": "code",
   "execution_count": 316,
   "metadata": {},
   "outputs": [],
   "source": [
    "class NodeList(list):\n",
    "    def find_nodelist(self, state):\n",
    "        node_list = [t for t in self if t.state==state]\n",
    "        return node_list[0] if node_list != [] else None\n",
    "    def remove_from_nodelist(self, node):\n",
    "        del self[self.index(node)]"
   ]
  },
  {
   "cell_type": "code",
   "execution_count": 317,
   "metadata": {},
   "outputs": [],
   "source": [
    "class Aster_Solver(object):\n",
    "    def __init__(self, maze, start_point, goal_point, display=False):\n",
    "        self.Field = maze\n",
    "        self.start_point = start_point\n",
    "        self.goal_point = goal_point\n",
    "        self.open_list = NodeList()\n",
    "        self.close_list = NodeList()\n",
    "        self.steps = 0\n",
    "        self.score = 0\n",
    "        self.display = display\n",
    "        \n",
    "    def set_initial_node(self):\n",
    "        node = Node(self.start_point, self.start_point, self.goal_point)\n",
    "        node.start_point = self.start_point\n",
    "        node.goal_point = self.goal_point \n",
    "        return node\n",
    "                \n",
    "    def go_next(self, next_actions, node):\n",
    "        node_gs = node.fs - node.hs\n",
    "        for action in next_actions:\n",
    "            open_list = self.open_list.find_nodelist(action)\n",
    "            dist = (node.state[0] - action[0]) ** 2 + (node.state[1] - action[1]) ** 2\n",
    "            if open_list:\n",
    "                if open_list.fs > node_gs + open_list.hs + dist:\n",
    "                    open_list.fs = node_gs + open_list.hs + dist\n",
    "                    open_list.parent_node = node\n",
    "            else:\n",
    "                open_list = self.close_list.find_nodelist(action)\n",
    "                if open_list:\n",
    "                    if open_list.fs > node_gs + open_list.hs + dist:\n",
    "                        open_list.fs = node_gs + open_list.hs + dist\n",
    "                        open_list.parent_node = node\n",
    "                        self.open_list.append(open_list)\n",
    "                        self.close_list.remove_from_nodelist(open_list)\n",
    "                else:\n",
    "                    open_list = Node(action, self.start_point, self.goal_point)\n",
    "                    open_list.fs = node_gs + open_list.hs + dist\n",
    "                    open_list.parent_node = node\n",
    "                    self.open_list.append(open_list)\n",
    "    \n",
    "    def solve_maze(self):\n",
    "        node = self.set_initial_node()\n",
    "        node.fs = node.hs\n",
    "        self.open_list.append(node)\n",
    "        \n",
    "        while True:            \n",
    "            node = min(self.open_list, key = lambda node:node.fs)\n",
    "            print (\"current state:  {0}\".format(node.state))\n",
    "            \n",
    "            if self.display:\n",
    "#                 self.Field.print_map(node.state)\n",
    "                self.Field.display(node.state)\n",
    "            \n",
    "            reward, tf = self.Field.get_val(node.state)\n",
    "            self.score =  self.score + reward\n",
    "            print(\"current step: {0} \\t score: {1} \\n\".format(self.steps, self.score))\n",
    "            self.steps += 1\n",
    "            if tf == True:\n",
    "                print(\"Goal!\")\n",
    "                break\n",
    "\n",
    "            self.open_list.remove_from_nodelist(node)\n",
    "            self.close_list.append(node)\n",
    "            \n",
    "            next_actions = self.Field.get_actions(node.state)   \n",
    "            self.go_next(next_actions, node)"
   ]
  },
  {
   "cell_type": "code",
   "execution_count": 319,
   "metadata": {
    "scrolled": false
   },
   "outputs": [
    {
     "name": "stdout",
     "output_type": "stream",
     "text": [
      "current state:  [0, 2]\n",
      "current step: 0 \t score: 0 \n",
      "\n",
      "current state:  [1, 2]\n",
      "current step: 1 \t score: 3.0 \n",
      "\n",
      "current state:  [1, 1]\n",
      "current step: 2 \t score: 6.0 \n",
      "\n",
      "current state:  [2, 1]\n",
      "current step: 3 \t score: 9.0 \n",
      "\n",
      "current state:  [3, 1]\n",
      "current step: 4 \t score: 12.0 \n",
      "\n",
      "current state:  [4, 1]\n",
      "current step: 5 \t score: 15.0 \n",
      "\n",
      "current state:  [4, 2]\n",
      "current step: 6 \t score: 18.0 \n",
      "\n",
      "current state:  [5, 2]\n",
      "current step: 7 \t score: 21.0 \n",
      "\n",
      "current state:  [5, 3]\n",
      "current step: 8 \t score: 24.0 \n",
      "\n",
      "current state:  [6, 3]\n",
      "current step: 9 \t score: 27.0 \n",
      "\n",
      "current state:  [6, 4]\n",
      "current step: 10 \t score: 30.0 \n",
      "\n",
      "current state:  [7, 4]\n",
      "current step: 11 \t score: 33.0 \n",
      "\n",
      "current state:  [8, 4]\n",
      "current step: 12 \t score: 36.0 \n",
      "\n",
      "current state:  [8, 5]\n",
      "current step: 13 \t score: 39.0 \n",
      "\n",
      "current state:  [8, 6]\n",
      "current step: 14 \t score: 42.0 \n",
      "\n",
      "current state:  [9, 5]\n",
      "current step: 15 \t score: 45.0 \n",
      "\n",
      "current state:  [10, 5]\n",
      "current step: 16 \t score: 48.0 \n",
      "\n",
      "current state:  [10, 6]\n",
      "current step: 17 \t score: 51.0 \n",
      "\n",
      "current state:  [10, 7]\n",
      "current step: 18 \t score: 54.0 \n",
      "\n",
      "current state:  [10, 8]\n",
      "current step: 19 \t score: 57.0 \n",
      "\n",
      "current state:  [10, 9]\n",
      "current step: 20 \t score: 60.0 \n",
      "\n",
      "current state:  [11, 9]\n"
     ]
    },
    {
     "name": "stderr",
     "output_type": "stream",
     "text": [
      "C:\\Users\\Bermuda\\Anaconda3\\lib\\site-packages\\matplotlib\\pyplot.py:537: RuntimeWarning: More than 20 figures have been opened. Figures created through the pyplot interface (`matplotlib.pyplot.figure`) are retained until explicitly closed and may consume too much memory. (To control this warning, see the rcParam `figure.max_open_warning`).\n",
      "  max_open_warning, RuntimeWarning)\n"
     ]
    },
    {
     "name": "stdout",
     "output_type": "stream",
     "text": [
      "current step: 21 \t score: 63.0 \n",
      "\n",
      "Goal!\n"
     ]
    },
    {
     "data": {
      "text/plain": [
       "<Figure size 432x288 with 0 Axes>"
      ]
     },
     "metadata": {},
     "output_type": "display_data"
    },
    {
     "data": {
      "image/png": "[encoded data removed]",
      "text/plain": [
       "<Figure size 288x288 with 1 Axes>"
      ]
     },
     "metadata": {},
     "output_type": "display_data"
    },
    {
     "data": {
      "text/plain": [
       "<Figure size 432x288 with 0 Axes>"
      ]
     },
     "metadata": {},
     "output_type": "display_data"
    },
    {
     "data": {
      "image/png": "[encoded data removed]",
      "text/plain": [
       "<Figure size 288x288 with 1 Axes>"
      ]
     },
     "metadata": {},
     "output_type": "display_data"
    },
    {
     "data": {
      "text/plain": [
       "<Figure size 432x288 with 0 Axes>"
      ]
     },
     "metadata": {},
     "output_type": "display_data"
    },
    {
     "data": {
      "image/png": "[encoded data removed]",
      "text/plain": [
       "<Figure size 288x288 with 1 Axes>"
      ]
     },
     "metadata": {},
     "output_type": "display_data"
    },
    {
     "data": {
      "text/plain": [
       "<Figure size 432x288 with 0 Axes>"
      ]
     },
     "metadata": {},
     "output_type": "display_data"
    },
    {
     "data": {
      "image/png": "[encoded data removed]",
      "text/plain": [
       "<Figure size 288x288 with 1 Axes>"
      ]
     },
     "metadata": {},
     "output_type": "display_data"
    },
    {
     "data": {
      "text/plain": [
       "<Figure size 432x288 with 0 Axes>"
      ]
     },
     "metadata": {},
     "output_type": "display_data"
    },
    {
     "data": {
      "image/png": "[encoded data removed]",
      "text/plain": [
       "<Figure size 288x288 with 1 Axes>"
      ]
     },
     "metadata": {},
     "output_type": "display_data"
    },
    {
     "data": {
      "text/plain": [
       "<Figure size 432x288 with 0 Axes>"
      ]
     },
     "metadata": {},
     "output_type": "display_data"
    },
    {
     "data": {
      "image/png": "[encoded data removed]",
      "text/plain": [
       "<Figure size 288x288 with 1 Axes>"
      ]
     },
     "metadata": {},
     "output_type": "display_data"
    },
    {
     "data": {
      "text/plain": [
       "<Figure size 432x288 with 0 Axes>"
      ]
     },
     "metadata": {},
     "output_type": "display_data"
    },
    {
     "data": {
      "image/png": "[encoded data removed]",
      "text/plain": [
       "<Figure size 288x288 with 1 Axes>"
      ]
     },
     "metadata": {},
     "output_type": "display_data"
    },
    {
     "data": {
      "text/plain": [
       "<Figure size 432x288 with 0 Axes>"
      ]
     },
     "metadata": {},
     "output_type": "display_data"
    },
    {
     "data": {
      "image/png": "[encoded data removed]",
      "text/plain": [
       "<Figure size 288x288 with 1 Axes>"
      ]
     },
     "metadata": {},
     "output_type": "display_data"
    },
    {
     "data": {
      "text/plain": [
       "<Figure size 432x288 with 0 Axes>"
      ]
     },
     "metadata": {},
     "output_type": "display_data"
    },
    {
     "data": {
      "image/png": "[encoded data removed]",
      "text/plain": [
       "<Figure size 288x288 with 1 Axes>"
      ]
     },
     "metadata": {},
     "output_type": "display_data"
    },
    {
     "data": {
      "text/plain": [
       "<Figure size 432x288 with 0 Axes>"
      ]
     },
     "metadata": {},
     "output_type": "display_data"
    },
    {
     "data": {
      "image/png": "[encoded data removed]",
      "text/plain": [
       "<Figure size 288x288 with 1 Axes>"
      ]
     },
     "metadata": {},
     "output_type": "display_data"
    },
    {
     "data": {
      "text/plain": [
       "<Figure size 432x288 with 0 Axes>"
      ]
     },
     "metadata": {},
     "output_type": "display_data"
    },
    {
     "data": {
      "image/png": "[encoded data removed]",
      "text/plain": [
       "<Figure size 288x288 with 1 Axes>"
      ]
     },
     "metadata": {},
     "output_type": "display_data"
    },
    {
     "data": {
      "text/plain": [
       "<Figure size 432x288 with 0 Axes>"
      ]
     },
     "metadata": {},
     "output_type": "display_data"
    },
    {
     "data": {
      "image/png": "[encoded data removed]",
      "text/plain": [
       "<Figure size 288x288 with 1 Axes>"
      ]
     },
     "metadata": {},
     "output_type": "display_data"
    },
    {
     "data": {
      "text/plain": [
       "<Figure size 432x288 with 0 Axes>"
      ]
     },
     "metadata": {},
     "output_type": "display_data"
    },
    {
     "data": {
      "image/png": "[encoded data removed]",
      "text/plain": [
       "<Figure size 288x288 with 1 Axes>"
      ]
     },
     "metadata": {},
     "output_type": "display_data"
    },
    {
     "data": {
      "text/plain": [
       "<Figure size 432x288 with 0 Axes>"
      ]
     },
     "metadata": {},
     "output_type": "display_data"
    },
    {
     "data": {
      "image/png": "[encoded data removed]",
      "text/plain": [
       "<Figure size 288x288 with 1 Axes>"
      ]
     },
     "metadata": {},
     "output_type": "display_data"
    },
    {
     "data": {
      "text/plain": [
       "<Figure size 432x288 with 0 Axes>"
      ]
     },
     "metadata": {},
     "output_type": "display_data"
    },
    {
     "data": {
      "image/png": "[encoded data removed]",
      "text/plain": [
       "<Figure size 288x288 with 1 Axes>"
      ]
     },
     "metadata": {},
     "output_type": "display_data"
    },
    {
     "data": {
      "text/plain": [
       "<Figure size 432x288 with 0 Axes>"
      ]
     },
     "metadata": {},
     "output_type": "display_data"
    },
    {
     "data": {
      "image/png": "[encoded data removed]",
      "text/plain": [
       "<Figure size 288x288 with 1 Axes>"
      ]
     },
     "metadata": {},
     "output_type": "display_data"
    },
    {
     "data": {
      "text/plain": [
       "<Figure size 432x288 with 0 Axes>"
      ]
     },
     "metadata": {},
     "output_type": "display_data"
    },
    {
     "data": {
      "image/png": "[encoded data removed]",
      "text/plain": [
       "<Figure size 288x288 with 1 Axes>"
      ]
     },
     "metadata": {},
     "output_type": "display_data"
    },
    {
     "data": {
      "text/plain": [
       "<Figure size 432x288 with 0 Axes>"
      ]
     },
     "metadata": {},
     "output_type": "display_data"
    },
    {
     "data": {
      "image/png": "[encoded data removed]",
      "text/plain": [
       "<Figure size 288x288 with 1 Axes>"
      ]
     },
     "metadata": {},
     "output_type": "display_data"
    },
    {
     "data": {
      "text/plain": [
       "<Figure size 432x288 with 0 Axes>"
      ]
     },
     "metadata": {},
     "output_type": "display_data"
    },
    {
     "data": {
      "image/png": "[encoded data removed]",
      "text/plain": [
       "<Figure size 288x288 with 1 Axes>"
      ]
     },
     "metadata": {},
     "output_type": "display_data"
    },
    {
     "data": {
      "text/plain": [
       "<Figure size 432x288 with 0 Axes>"
      ]
     },
     "metadata": {},
     "output_type": "display_data"
    },
    {
     "data": {
      "image/png": "[encoded data removed]",
      "text/plain": [
       "<Figure size 288x288 with 1 Axes>"
      ]
     },
     "metadata": {},
     "output_type": "display_data"
    },
    {
     "data": {
      "text/plain": [
       "<Figure size 432x288 with 0 Axes>"
      ]
     },
     "metadata": {},
     "output_type": "display_data"
    },
    {
     "data": {
      "image/png": "[encoded data removed]",
      "text/plain": [
       "<Figure size 288x288 with 1 Axes>"
      ]
     },
     "metadata": {},
     "output_type": "display_data"
    },
    {
     "data": {
      "text/plain": [
       "<Figure size 432x288 with 0 Axes>"
      ]
     },
     "metadata": {},
     "output_type": "display_data"
    },
    {
     "data": {
      "image/png": "[encoded data removed]",
      "text/plain": [
       "<Figure size 288x288 with 1 Axes>"
      ]
     },
     "metadata": {},
     "output_type": "display_data"
    }
   ],
   "source": [
    "astar_Solver = Aster_Solver(maze_field, start_point, goal_point, display=True)\n",
    "astar_Solver.solve_maze()"
   ]
  },
  {
   "cell_type": "code",
   "execution_count": null,
   "metadata": {},
   "outputs": [],
   "source": []
  },
  {
   "cell_type": "code",
   "execution_count": null,
   "metadata": {},
   "outputs": [],
   "source": []
  }
 ],
 "metadata": {
  "anaconda-cloud": {},
  "kernelspec": {
   "display_name": "Python 3",
   "language": "python",
   "name": "python3"
  },
  "language_info": {
   "codemirror_mode": {
    "name": "ipython",
    "version": 3
   },
   "file_extension": ".py",
   "mimetype": "text/x-python",
   "name": "python",
   "nbconvert_exporter": "python",
   "pygments_lexer": "ipython3",
   "version": "3.6.5"
  }
 },
 "nbformat": 4,
 "nbformat_minor": 1
}
